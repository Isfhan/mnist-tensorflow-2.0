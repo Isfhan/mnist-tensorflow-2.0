{
  "nbformat": 4,
  "nbformat_minor": 0,
  "metadata": {
    "colab": {
      "name": "mnist-model.ipynb",
      "provenance": [],
      "collapsed_sections": [],
      "authorship_tag": "ABX9TyPxDRRvj8QttyIJWoCCDvci",
      "include_colab_link": true
    },
    "kernelspec": {
      "name": "python3",
      "display_name": "Python 3"
    },
    "accelerator": "GPU"
  },
  "cells": [
    {
      "cell_type": "markdown",
      "metadata": {
        "id": "view-in-github",
        "colab_type": "text"
      },
      "source": [
        "<a href=\"https://colab.research.google.com/github/Isfhan/mnist-tensorflow-2.0/blob/master/mnist_model.ipynb\" target=\"_parent\"><img src=\"https://colab.research.google.com/assets/colab-badge.svg\" alt=\"Open In Colab\"/></a>"
      ]
    },
    {
      "cell_type": "code",
      "metadata": {
        "id": "z9VhtZtxpWcy",
        "colab_type": "code",
        "colab": {
          "base_uri": "https://localhost:8080/",
          "height": 34
        },
        "outputId": "d0bc0956-af57-43a7-afc9-cc3f8caf1faf"
      },
      "source": [
        "from __future__ import absolute_import, division, print_function, unicode_literals\n",
        "\n",
        "try:\n",
        "  # %tensorflow_version only exists in Colab.\n",
        "  %tensorflow_version 2.x\n",
        "except Exception:\n",
        "  pass\n",
        "\n",
        "import tensorflow as tf"
      ],
      "execution_count": 1,
      "outputs": [
        {
          "output_type": "stream",
          "text": [
            "TensorFlow 2.x selected.\n"
          ],
          "name": "stdout"
        }
      ]
    },
    {
      "cell_type": "code",
      "metadata": {
        "id": "P7l76m41qi6p",
        "colab_type": "code",
        "colab": {}
      },
      "source": [
        "mnist = tf.keras.datasets.mnist\n",
        "\n",
        "(x_train, y_train), (x_test, y_test) = mnist.load_data()\n",
        "x_train, x_test = x_train / 255.0, x_test / 255.0"
      ],
      "execution_count": 0,
      "outputs": []
    },
    {
      "cell_type": "code",
      "metadata": {
        "id": "gYs7H4Wxqr4A",
        "colab_type": "code",
        "colab": {}
      },
      "source": [
        "model = tf.keras.models.Sequential([\n",
        "  tf.keras.layers.Flatten(input_shape=(28, 28)),\n",
        "  tf.keras.layers.Dense(128, activation='relu'),\n",
        "  tf.keras.layers.Dropout(0.2),\n",
        "  tf.keras.layers.Dense(10)\n",
        "])"
      ],
      "execution_count": 0,
      "outputs": []
    },
    {
      "cell_type": "code",
      "metadata": {
        "id": "eeIQsjy1qwqg",
        "colab_type": "code",
        "colab": {
          "base_uri": "https://localhost:8080/",
          "height": 190
        },
        "outputId": "e129f746-5732-46ad-f7d2-f8877e073629"
      },
      "source": [
        "predictions = model(x_train[:1]).numpy()\n",
        "predictions"
      ],
      "execution_count": 4,
      "outputs": [
        {
          "output_type": "stream",
          "text": [
            "WARNING:tensorflow:Layer flatten is casting an input tensor from dtype float64 to the layer's dtype of float32, which is new behavior in TensorFlow 2.  The layer has dtype float32 because it's dtype defaults to floatx.\n",
            "\n",
            "If you intended to run this layer in float32, you can safely ignore this warning. If in doubt, this warning is likely only an issue if you are porting a TensorFlow 1.X model to TensorFlow 2.\n",
            "\n",
            "To change all layers to have dtype float64 by default, call `tf.keras.backend.set_floatx('float64')`. To change just this layer, pass dtype='float64' to the layer constructor. If you are the author of this layer, you can disable autocasting by passing autocast=False to the base Layer constructor.\n",
            "\n"
          ],
          "name": "stdout"
        },
        {
          "output_type": "execute_result",
          "data": {
            "text/plain": [
              "array([[ 0.18378219, -0.35336462, -0.08616923,  0.20342018,  0.01885466,\n",
              "         0.2847146 ,  0.16119228,  0.1766319 , -0.05110746,  0.0617896 ]],\n",
              "      dtype=float32)"
            ]
          },
          "metadata": {
            "tags": []
          },
          "execution_count": 4
        }
      ]
    },
    {
      "cell_type": "code",
      "metadata": {
        "id": "ta4T-ioHq1V4",
        "colab_type": "code",
        "colab": {
          "base_uri": "https://localhost:8080/",
          "height": 68
        },
        "outputId": "ac5f3825-4d6a-48a3-90a8-358e6b5279d4"
      },
      "source": [
        "tf.nn.softmax(predictions).numpy()"
      ],
      "execution_count": 5,
      "outputs": [
        {
          "output_type": "execute_result",
          "data": {
            "text/plain": [
              "array([[0.11150547, 0.06516528, 0.08512513, 0.11371686, 0.09455163,\n",
              "        0.12334756, 0.1090148 , 0.11071102, 0.0881627 , 0.09869962]],\n",
              "      dtype=float32)"
            ]
          },
          "metadata": {
            "tags": []
          },
          "execution_count": 5
        }
      ]
    },
    {
      "cell_type": "code",
      "metadata": {
        "id": "2OgXLLoYq4oo",
        "colab_type": "code",
        "colab": {}
      },
      "source": [
        "loss_fn = tf.keras.losses.SparseCategoricalCrossentropy(from_logits=True)"
      ],
      "execution_count": 0,
      "outputs": []
    },
    {
      "cell_type": "code",
      "metadata": {
        "id": "HG_mvPj9q9_x",
        "colab_type": "code",
        "colab": {
          "base_uri": "https://localhost:8080/",
          "height": 34
        },
        "outputId": "051bda5d-ce37-43b7-d489-e485dd34bd5b"
      },
      "source": [
        "loss_fn(y_train[:1], predictions).numpy()"
      ],
      "execution_count": 7,
      "outputs": [
        {
          "output_type": "execute_result",
          "data": {
            "text/plain": [
              "2.0927494"
            ]
          },
          "metadata": {
            "tags": []
          },
          "execution_count": 7
        }
      ]
    },
    {
      "cell_type": "code",
      "metadata": {
        "id": "baApAbOPsqG4",
        "colab_type": "code",
        "colab": {}
      },
      "source": [
        "model.compile(optimizer='adam',\n",
        "              loss=loss_fn,\n",
        "              metrics=['accuracy'])"
      ],
      "execution_count": 0,
      "outputs": []
    },
    {
      "cell_type": "code",
      "metadata": {
        "id": "wDpRohnJst22",
        "colab_type": "code",
        "colab": {
          "base_uri": "https://localhost:8080/",
          "height": 221
        },
        "outputId": "0d2131b2-0ccd-48c7-d89d-2038c633931f"
      },
      "source": [
        "model.fit(x_train, y_train, epochs=5)"
      ],
      "execution_count": 9,
      "outputs": [
        {
          "output_type": "stream",
          "text": [
            "Train on 60000 samples\n",
            "Epoch 1/5\n",
            "60000/60000 [==============================] - 4s 71us/sample - loss: 0.3007 - accuracy: 0.9131\n",
            "Epoch 2/5\n",
            "60000/60000 [==============================] - 4s 63us/sample - loss: 0.1448 - accuracy: 0.9573\n",
            "Epoch 3/5\n",
            "60000/60000 [==============================] - 4s 62us/sample - loss: 0.1080 - accuracy: 0.9678\n",
            "Epoch 4/5\n",
            "60000/60000 [==============================] - 4s 63us/sample - loss: 0.0880 - accuracy: 0.9732\n",
            "Epoch 5/5\n",
            "60000/60000 [==============================] - 4s 64us/sample - loss: 0.0766 - accuracy: 0.9762\n"
          ],
          "name": "stdout"
        },
        {
          "output_type": "execute_result",
          "data": {
            "text/plain": [
              "<tensorflow.python.keras.callbacks.History at 0x7f744016f630>"
            ]
          },
          "metadata": {
            "tags": []
          },
          "execution_count": 9
        }
      ]
    },
    {
      "cell_type": "code",
      "metadata": {
        "id": "MpmBxSOJsxiG",
        "colab_type": "code",
        "colab": {
          "base_uri": "https://localhost:8080/",
          "height": 51
        },
        "outputId": "0d22c386-4940-4843-f4ff-d3c2c797b50b"
      },
      "source": [
        "model.evaluate(x_test,  y_test, verbose=2)"
      ],
      "execution_count": 10,
      "outputs": [
        {
          "output_type": "stream",
          "text": [
            "10000/10000 - 1s - loss: 0.0677 - accuracy: 0.9795\n"
          ],
          "name": "stdout"
        },
        {
          "output_type": "execute_result",
          "data": {
            "text/plain": [
              "[0.06766869288659655, 0.9795]"
            ]
          },
          "metadata": {
            "tags": []
          },
          "execution_count": 10
        }
      ]
    },
    {
      "cell_type": "code",
      "metadata": {
        "id": "01x2kNobs2fG",
        "colab_type": "code",
        "colab": {}
      },
      "source": [
        "probability_model = tf.keras.Sequential([\n",
        "  model,\n",
        "  tf.keras.layers.Softmax()\n",
        "])"
      ],
      "execution_count": 0,
      "outputs": []
    },
    {
      "cell_type": "code",
      "metadata": {
        "id": "JEKYksmgs51d",
        "colab_type": "code",
        "colab": {
          "base_uri": "https://localhost:8080/",
          "height": 289
        },
        "outputId": "2ff1d464-5fba-429e-c659-3826ce70c78a"
      },
      "source": [
        "probability_model(x_test[:5])"
      ],
      "execution_count": 12,
      "outputs": [
        {
          "output_type": "execute_result",
          "data": {
            "text/plain": [
              "<tf.Tensor: shape=(5, 10), dtype=float32, numpy=\n",
              "array([[1.1138217e-08, 2.8872256e-09, 7.6659207e-06, 1.2622820e-04,\n",
              "        2.3335919e-10, 7.0804492e-07, 9.8484411e-15, 9.9985671e-01,\n",
              "        6.3014140e-06, 2.3793846e-06],\n",
              "       [2.1422123e-08, 2.9791723e-04, 9.9966669e-01, 6.0316756e-06,\n",
              "        5.0557432e-13, 3.7405910e-06, 1.3798599e-07, 5.7873633e-11,\n",
              "        2.5436913e-05, 7.8043240e-12],\n",
              "       [8.8783473e-08, 9.9903059e-01, 2.5301505e-04, 3.9256297e-06,\n",
              "        1.6694135e-05, 3.5782796e-06, 8.0026957e-06, 6.0845230e-04,\n",
              "        7.2676368e-05, 3.0337460e-06],\n",
              "       [9.9934751e-01, 5.7126675e-07, 7.6972785e-05, 5.8745962e-07,\n",
              "        2.6709960e-05, 8.3383720e-06, 6.3562082e-05, 4.7486974e-04,\n",
              "        1.0506247e-07, 7.4171260e-07],\n",
              "       [8.3966024e-06, 3.4341885e-09, 3.6611405e-06, 1.5858772e-07,\n",
              "        9.9804270e-01, 2.8723168e-06, 7.4477080e-06, 5.8794118e-05,\n",
              "        1.8687288e-05, 1.8572612e-03]], dtype=float32)>"
            ]
          },
          "metadata": {
            "tags": []
          },
          "execution_count": 12
        }
      ]
    },
    {
      "cell_type": "code",
      "metadata": {
        "id": "-oCsnHhRxTaJ",
        "colab_type": "code",
        "colab": {}
      },
      "source": [
        "model_json  = model.to_json()"
      ],
      "execution_count": 0,
      "outputs": []
    },
    {
      "cell_type": "code",
      "metadata": {
        "id": "lnUUOZNDyNre",
        "colab_type": "code",
        "colab": {}
      },
      "source": [
        "with open(\"model_json\", \"w\") as json_file:\n",
        "  json_file.write(model_json)"
      ],
      "execution_count": 0,
      "outputs": []
    },
    {
      "cell_type": "code",
      "metadata": {
        "id": "lfGrLPDxrO2P",
        "colab_type": "code",
        "colab": {}
      },
      "source": [
        "model.save_weights(\"model.h5\")"
      ],
      "execution_count": 0,
      "outputs": []
    },
    {
      "cell_type": "code",
      "metadata": {
        "id": "vd1LalecrUf_",
        "colab_type": "code",
        "colab": {}
      },
      "source": [
        ""
      ],
      "execution_count": 0,
      "outputs": []
    }
  ]
}